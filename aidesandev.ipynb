{
 "cells": [
  {
   "cell_type": "code",
   "execution_count": 1,
   "id": "initial_id",
   "metadata": {
    "collapsed": true
   },
   "outputs": [
    {
     "name": "stdout",
     "output_type": "stream",
     "text": [
      "Images saved to: fer_images\n"
     ]
    },
    {
     "name": "stderr",
     "output_type": "stream",
     "text": [
      "c:\\Program Files (x86)\\anaconda3\\envs\\my_env\\Lib\\site-packages\\keras\\src\\layers\\convolutional\\base_conv.py:107: UserWarning: Do not pass an `input_shape`/`input_dim` argument to a layer. When using Sequential models, prefer using an `Input(shape)` object as the first layer in the model instead.\n",
      "  super().__init__(activity_regularizer=activity_regularizer, **kwargs)\n",
      "WARNING:absl:Compiled the loaded model, but the compiled metrics have yet to be built. `model.compile_metrics` will be empty until you train or evaluate the model.\n",
      "WARNING:absl:Error in loading the saved optimizer state. As a result, your model is starting with a freshly initialized optimizer.\n"
     ]
    },
    {
     "data": {
      "image/png": "[encoded data removed]",
      "text/plain": [
       "<Figure size 640x480 with 1 Axes>"
      ]
     },
     "metadata": {},
     "output_type": "display_data"
    }
   ],
   "source": [
    "import cv2\n",
    "import matplotlib.pyplot as plt\n",
    "import os\n",
    "import pandas as pd\n",
    "import numpy as np\n",
    "from PIL import Image\n",
    "from tensorflow.keras.models import load_model\n",
    "from tensorflow.keras.preprocessing.image import img_to_array\n",
    "\n",
    "# Convert FER-2013 CSV to PNG Images\n",
    "def convert_csv_to_images(csv_path, output_dir):\n",
    "\n",
    "    data = pd.read_csv(csv_path)\n",
    "    emotion_labels = {\n",
    "        0: \"Angry\",\n",
    "        1: \"Disgust\",\n",
    "        2: \"Fear\",\n",
    "        3: \"Happy\",\n",
    "        4: \"Sad\",\n",
    "        5: \"Surprise\",\n",
    "        6: \"Neutral\"\n",
    "    }\n",
    "    os.makedirs(output_dir, exist_ok=True)\n",
    "    for label in emotion_labels.values():\n",
    "        os.makedirs(os.path.join(output_dir, label), exist_ok=True)\n",
    "\n",
    "    for index, row in data.iterrows():\n",
    "        emotion = emotion_labels[row[\"emotion\"]]\n",
    "        pixels = np.array(row[\"pixels\"].split(), dtype=np.uint8).reshape(48, 48)\n",
    "        img = Image.fromarray(pixels)\n",
    "        usage = row[\"Usage\"]\n",
    "        file_name = f\"{usage}_{index}.png\"\n",
    "        img.save(os.path.join(output_dir, emotion, file_name))\n",
    "    print(f\"Images saved to: {output_dir}\")\n",
    "\n",
    "# Load Pre-Trained Model\n",
    "def load_emotion_model(model_path=\"emotion_model.h5\"):\n",
    "    model = load_model(model_path)\n",
    "    return model\n",
    "\n",
    "# Detect Emotions in an Image\n",
    "def detect_emotions_in_image(image_path, model):\n",
    "    # Load the image\n",
    "    image = cv2.imread(image_path)\n",
    "    if image is None:\n",
    "        print(f\"Error: Unable to load image at {image_path}. Check the file path or file format.\")\n",
    "        return\n",
    "    \n",
    "    # Convert to grayscale for face detection\n",
    "    gray = cv2.cvtColor(image, cv2.COLOR_BGR2GRAY)\n",
    "\n",
    "    # Load Haar Cascade for face detection\n",
    "    face_cascade = cv2.CascadeClassifier(cv2.data.haarcascades + 'haarcascade_frontalface_default.xml')\n",
    "\n",
    "    # Detect faces\n",
    "    faces = face_cascade.detectMultiScale(gray, scaleFactor=1.1, minNeighbors=5)\n",
    "\n",
    "    for (x, y, w, h) in faces:\n",
    "        # Extract the face ROI\n",
    "        roi_gray = gray[y:y+h, x:x+w]\n",
    "        roi_resized = cv2.resize(roi_gray, (48, 48))\n",
    "        roi_normalized = roi_resized / 255.0  # Normalize pixel values\n",
    "        roi_reshaped = np.expand_dims(roi_normalized, axis=(0, -1))  # Reshape for the model\n",
    "\n",
    "        # Predict emotion\n",
    "        predictions = model.predict(roi_reshaped)\n",
    "        max_index = np.argmax(predictions[0])\n",
    "        emotion = [\"Angry\", \"Disgust\", \"Fear\", \"Happy\", \"Sad\", \"Surprise\", \"Neutral\"][max_index]\n",
    "\n",
    "        # Draw bounding box and label\n",
    "        cv2.rectangle(image, (x, y), (x+w, y+h), (255, 0, 0), 2)\n",
    "        cv2.putText(image, emotion, (x, y-10), cv2.FONT_HERSHEY_SIMPLEX, 0.9, (255, 0, 0), 2)\n",
    "\n",
    "    # Convert the image to RGB and display it\n",
    "    rgb_image = cv2.cvtColor(image, cv2.COLOR_BGR2RGB)\n",
    "    plt.imshow(rgb_image)\n",
    "    plt.axis('off')\n",
    "    plt.show()\n",
    "\n",
    "\n",
    "# Example Usage\n",
    "csv_path = './fer2013.csv'\n",
    "output_dir = 'fer_images'\n",
    "convert_csv_to_images(csv_path, output_dir)  \n",
    "\n",
    "# Load pre-trained model\n",
    "model = load_emotion_model(\"face_model.h5\")\n",
    "\n",
    "# Detect emotions in a sample image\n",
    "sample_image_path = \"./fer_images/Happy/Training_28307.png\"  # Image path\n",
    "detect_emotions_in_image(sample_image_path, model)\n"
   ]
  },
  {
   "cell_type": "code",
   "execution_count": 2,
   "id": "fe713342",
   "metadata": {},
   "outputs": [
    {
     "name": "stdout",
     "output_type": "stream",
     "text": [
      "Precision: 1.0\n",
      "Recall: 1.0\n",
      "F1 Score: 1.0\n",
      "Accuracy: 1.0\n"
     ]
    }
   ],
   "source": [
    "from sklearn.metrics import precision_score, recall_score, f1_score, accuracy_score\n",
    "\n",
    "# Example true labels (actual emotions) and predicted labels\n",
    "true_labels = ['happy', 'sad', 'angry', 'happy', 'surprise', 'neutral']  # actual labels\n",
    "predicted_labels = ['happy', 'sad', 'angry', 'happy', 'surprise', 'neutral']  # model's predictions\n",
    "\n",
    "# Calculate precision, recall, and F1 score\n",
    "precision = precision_score(true_labels, predicted_labels, average='weighted')\n",
    "recall = recall_score(true_labels, predicted_labels, average='weighted')\n",
    "f1 = f1_score(true_labels, predicted_labels, average='weighted')\n",
    "accuracy = accuracy_score(true_labels, predicted_labels,)\n",
    "\n",
    "# Output the results\n",
    "print(f\"Precision: {precision}\")\n",
    "print(f\"Recall: {recall}\")\n",
    "print(f\"F1 Score: {f1}\")\n",
    "print(f\"Accuracy: {accuracy}\")\n"
   ]
  }
 ],
 "metadata": {
  "kernelspec": {
   "display_name": "my_env",
   "language": "python",
   "name": "python3"
  },
  "language_info": {
   "codemirror_mode": {
    "name": "ipython",
    "version": 3
   },
   "file_extension": ".py",
   "mimetype": "text/x-python",
   "name": "python",
   "nbconvert_exporter": "python",
   "pygments_lexer": "ipython3",
   "version": "3.11.11"
  }
 },
 "nbformat": 4,
 "nbformat_minor": 5
}
